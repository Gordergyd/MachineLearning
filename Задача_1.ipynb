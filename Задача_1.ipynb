{
  "nbformat": 4,
  "nbformat_minor": 0,
  "metadata": {
    "colab": {
      "provenance": []
    },
    "kernelspec": {
      "name": "python3",
      "display_name": "Python 3"
    },
    "language_info": {
      "name": "python"
    }
  },
  "cells": [
    {
      "cell_type": "markdown",
      "source": [
        "Задание 1."
      ],
      "metadata": {
        "id": "CH4FepsqNc2U"
      }
    },
    {
      "cell_type": "code",
      "source": [
        "x=int(input());\n",
        "if x < 15.5:\n",
        "  print(\"ХОЛОДНО\")\n",
        "else:\n",
        "  if x > 28:\n",
        "    print(\"ЖАРКО\")\n",
        "  else:\n",
        "    print(\"НОРМАЛЬНО\")"
      ],
      "metadata": {
        "colab": {
          "base_uri": "https://localhost:8080/"
        },
        "id": "1J_iAnYbNfUy",
        "outputId": "28f9f93b-1e62-4ecf-b667-e709c193de03"
      },
      "execution_count": 28,
      "outputs": [
        {
          "output_type": "stream",
          "name": "stdout",
          "text": [
            "1\n",
            "ХОЛОДНО\n"
          ]
        }
      ]
    },
    {
      "cell_type": "markdown",
      "source": [
        "Задание 2."
      ],
      "metadata": {
        "id": "TKqMRRpA_Qu2"
      }
    },
    {
      "cell_type": "code",
      "source": [
        "x=int(input());\n",
        "i=0\n",
        "while i<x:\n",
        "  a=(input());\n",
        "  if a.find(\"Кот\")!=-1 or a.find(\"кот\")!=-1:\n",
        "    b=5\n",
        "  i=i+1\n",
        "if b==5: print(\"МЯУ\")"
      ],
      "metadata": {
        "colab": {
          "base_uri": "https://localhost:8080/"
        },
        "id": "-XlbdPT7_TBS",
        "outputId": "fd8b1687-937f-4756-efa9-7790068e3582"
      },
      "execution_count": 35,
      "outputs": [
        {
          "output_type": "stream",
          "name": "stdout",
          "text": [
            "3\n",
            "Колт\n",
            "Мякоть\n",
            "Кот\n",
            "МЯУ\n"
          ]
        }
      ]
    },
    {
      "cell_type": "markdown",
      "source": [
        "Задание 4.\n"
      ],
      "metadata": {
        "id": "z2RHZgzOFvat"
      }
    },
    {
      "cell_type": "code",
      "source": [
        "x=int(input());\n",
        "b=[]\n",
        "i=0\n",
        "while i<x:\n",
        "  b.append(input());\n",
        "  i=i+1\n",
        "print(b)"
      ],
      "metadata": {
        "colab": {
          "base_uri": "https://localhost:8080/"
        },
        "id": "1Mb1Ab6qFwyg",
        "outputId": "9e173995-cd8d-4227-dc87-c44fcd2e1d5b"
      },
      "execution_count": 39,
      "outputs": [
        {
          "output_type": "stream",
          "name": "stdout",
          "text": [
            "2\n",
            "М\n",
            "В\n",
            "['М', 'В']\n"
          ]
        }
      ]
    },
    {
      "cell_type": "code",
      "source": [],
      "metadata": {
        "id": "--tO4TJCJBTY"
      },
      "execution_count": null,
      "outputs": []
    }
  ]
}